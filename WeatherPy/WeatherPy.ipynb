{
 "cells": [
  {
   "cell_type": "code",
   "execution_count": 148,
   "metadata": {},
   "outputs": [],
   "source": [
    "# Dependencies\n",
    "import numpy as np\n",
    "import pandas as pd\n",
    "import matplotlib.pyplot as plt\n",
    "import requests\n",
    "import gmaps\n",
    "import os\n",
    "import json\n",
    "\n",
    "# Census & gmaps API Keys\n",
    "from config import (weather_key, gkey)\n",
    "# Configure gmaps\n",
    "gmaps.configure(api_key=gkey)"
   ]
  },
  {
   "cell_type": "code",
   "execution_count": 149,
   "metadata": {},
   "outputs": [
    {
     "output_type": "execute_result",
     "data": {
      "text/plain": [
       "      id               name state country  \\\n",
       "0    833      Ḩeşār-e Sefīd            IR   \n",
       "1   3245             Taglag            IR   \n",
       "2   3530           Qabāghlū            IR   \n",
       "3   7264  Kalāteh-ye Dowlat            IR   \n",
       "4   8084         Behjatābād            IR   \n",
       "5   9874    Ţālesh Maḩalleh            IR   \n",
       "6  11263    Shahrīār Kandeh            IR   \n",
       "7  11754    Bālā Aḩmad Kolā            IR   \n",
       "8  14177              Āqdūz            IR   \n",
       "9  14256          Āzādshahr            IR   \n",
       "\n",
       "                                  coord               Country Name  \n",
       "0  {'lon': 47.159401, 'lat': 34.330502}  Iran, Islamic Republic Of  \n",
       "1   {'lon': 44.98333, 'lat': 38.450001}  Iran, Islamic Republic Of  \n",
       "2  {'lon': 46.168499, 'lat': 36.173302}  Iran, Islamic Republic Of  \n",
       "3  {'lon': 57.616982, 'lat': 36.163841}  Iran, Islamic Republic Of  \n",
       "4  {'lon': 51.461639, 'lat': 36.667431}  Iran, Islamic Republic Of  \n",
       "5  {'lon': 50.679192, 'lat': 36.894329}  Iran, Islamic Republic Of  \n",
       "6   {'lon': 53.19902, 'lat': 36.631939}  Iran, Islamic Republic Of  \n",
       "7  {'lon': 52.667271, 'lat': 36.649059}  Iran, Islamic Republic Of  \n",
       "8   {'lon': 44.26556, 'lat': 39.197498}  Iran, Islamic Republic Of  \n",
       "9  {'lon': 48.570728, 'lat': 34.790878}  Iran, Islamic Republic Of  "
      ],
      "text/html": "<div>\n<style scoped>\n    .dataframe tbody tr th:only-of-type {\n        vertical-align: middle;\n    }\n\n    .dataframe tbody tr th {\n        vertical-align: top;\n    }\n\n    .dataframe thead th {\n        text-align: right;\n    }\n</style>\n<table border=\"1\" class=\"dataframe\">\n  <thead>\n    <tr style=\"text-align: right;\">\n      <th></th>\n      <th>id</th>\n      <th>name</th>\n      <th>state</th>\n      <th>country</th>\n      <th>coord</th>\n      <th>Country Name</th>\n    </tr>\n  </thead>\n  <tbody>\n    <tr>\n      <th>0</th>\n      <td>833</td>\n      <td>Ḩeşār-e Sefīd</td>\n      <td></td>\n      <td>IR</td>\n      <td>{'lon': 47.159401, 'lat': 34.330502}</td>\n      <td>Iran, Islamic Republic Of</td>\n    </tr>\n    <tr>\n      <th>1</th>\n      <td>3245</td>\n      <td>Taglag</td>\n      <td></td>\n      <td>IR</td>\n      <td>{'lon': 44.98333, 'lat': 38.450001}</td>\n      <td>Iran, Islamic Republic Of</td>\n    </tr>\n    <tr>\n      <th>2</th>\n      <td>3530</td>\n      <td>Qabāghlū</td>\n      <td></td>\n      <td>IR</td>\n      <td>{'lon': 46.168499, 'lat': 36.173302}</td>\n      <td>Iran, Islamic Republic Of</td>\n    </tr>\n    <tr>\n      <th>3</th>\n      <td>7264</td>\n      <td>Kalāteh-ye Dowlat</td>\n      <td></td>\n      <td>IR</td>\n      <td>{'lon': 57.616982, 'lat': 36.163841}</td>\n      <td>Iran, Islamic Republic Of</td>\n    </tr>\n    <tr>\n      <th>4</th>\n      <td>8084</td>\n      <td>Behjatābād</td>\n      <td></td>\n      <td>IR</td>\n      <td>{'lon': 51.461639, 'lat': 36.667431}</td>\n      <td>Iran, Islamic Republic Of</td>\n    </tr>\n    <tr>\n      <th>5</th>\n      <td>9874</td>\n      <td>Ţālesh Maḩalleh</td>\n      <td></td>\n      <td>IR</td>\n      <td>{'lon': 50.679192, 'lat': 36.894329}</td>\n      <td>Iran, Islamic Republic Of</td>\n    </tr>\n    <tr>\n      <th>6</th>\n      <td>11263</td>\n      <td>Shahrīār Kandeh</td>\n      <td></td>\n      <td>IR</td>\n      <td>{'lon': 53.19902, 'lat': 36.631939}</td>\n      <td>Iran, Islamic Republic Of</td>\n    </tr>\n    <tr>\n      <th>7</th>\n      <td>11754</td>\n      <td>Bālā Aḩmad Kolā</td>\n      <td></td>\n      <td>IR</td>\n      <td>{'lon': 52.667271, 'lat': 36.649059}</td>\n      <td>Iran, Islamic Republic Of</td>\n    </tr>\n    <tr>\n      <th>8</th>\n      <td>14177</td>\n      <td>Āqdūz</td>\n      <td></td>\n      <td>IR</td>\n      <td>{'lon': 44.26556, 'lat': 39.197498}</td>\n      <td>Iran, Islamic Republic Of</td>\n    </tr>\n    <tr>\n      <th>9</th>\n      <td>14256</td>\n      <td>Āzādshahr</td>\n      <td></td>\n      <td>IR</td>\n      <td>{'lon': 48.570728, 'lat': 34.790878}</td>\n      <td>Iran, Islamic Republic Of</td>\n    </tr>\n  </tbody>\n</table>\n</div>"
     },
     "metadata": {},
     "execution_count": 149
    }
   ],
   "source": [
    "#Import Cities from file downloaded from openweather.com\n",
    "filepath  = \"city.list.json\"\n",
    "cities_pd = pd.read_json(filepath, encoding=\"utf-8\")\n",
    "filepath = \"countryCodes.json\"\n",
    "countryCodes = pd.read_json(filepath, orient=\"index\", encoding=\"utf-8\" )\n",
    "countryCodes.index.rename(\"country\", inplace=True)\n",
    "countryCodes.columns=[\"Country Name\"]\n",
    "\n",
    "merged_data = cities_pd.merge(countryCodes, how=\"inner\", on=\"country\")\n",
    "merged_data.head(10)"
   ]
  },
  {
   "cell_type": "code",
   "execution_count": 150,
   "metadata": {},
   "outputs": [
    {
     "output_type": "stream",
     "name": "stdout",
     "text": [
      "Fetching weather for city:  La Baule-Escoublac  in  France ...\n",
      "Fetching weather for city:  Terme  in  Italy ...\n",
      "Fetching weather for city:  Thap Than  in  Thailand ...\n",
      "Fetching weather for city:  Longyearbyen  in  Svalbard And Jan Mayen ...\n",
      "Fetching weather for city:  Saint-Agnant-de-Versillat  in  France ...\n",
      "Fetching weather for city:  Great Brickhill  in  United Kingdom ...\n",
      "Fetching weather for city:  Heathrow  in  United Kingdom ...\n",
      "Fetching weather for city:  Boscotrecase  in  Italy ...\n",
      "Fetching weather for city:  Fuentes de Magaña  in  Spain ...\n",
      "Fetching weather for city:  Atlantida  in  Uruguay ...\n"
     ]
    }
   ],
   "source": [
    "base_url = \"https://api.openweathermap.org/data/2.5/weather?\"\n",
    "params = {\"appid\": weather_key,\n",
    "          \"units\": \"imperial\"}\n",
    "#print(params[\"appid\"])\n",
    "# Sample 10 cities and get their weather info\n",
    "cities = merged_data.loc[:,[\"id\", \"name\", \"Country Name\"]].sample(10)\n",
    "#print(len(cities))\n",
    "#print(cities)\n",
    "\n",
    "weather_data = []\n",
    "\n",
    "for ind in cities.index:\n",
    "    print(\"Fetching weather for city: \" , cities[\"name\"][ind] , \" in \" , cities[\"Country Name\"][ind],\"...\")\n",
    "    params[\"id\"] = cities[\"id\"][ind]\n",
    "    city_weather = requests.get(base_url, params=params).json()\n",
    "    #print(json.dumps(city_weather, indent=2))\n",
    "    # print( city_weather[\"coord\"][\"lat\"],\\\n",
    "    #        city_weather[\"coord\"][\"lon\"],\\\n",
    "    #        city_weather[\"main\"][\"temp\"],\\\n",
    "    #        city_weather[\"main\"][\"humidity\"],\\\n",
    "    #        city_weather[\"clouds\"][\"all\"],\"%\",\\\n",
    "    #        city_weather[\"wind\"][\"speed\"]\n",
    "    #       )\n",
    "    weather_data.append({\n",
    "                     \"City ID\"    : cities[\"id\"][ind],\n",
    "                     \"Lat\"        : city_weather[\"coord\"][\"lat\"],\n",
    "                     \"Lon\"        : city_weather[\"coord\"][\"lon\"],\n",
    "                     \"Temp\"       : city_weather[\"main\"][\"temp\"],\n",
    "                     \"Humidity\"   : city_weather[\"main\"][\"humidity\"],\n",
    "                     \"Cloudiness\" : city_weather[\"clouds\"][\"all\"],\n",
    "                     \"Wind Speed\" : city_weather[\"wind\"][\"speed\"]\n",
    "                    })\n",
    "    \n",
    "    \n"
   ]
  },
  {
   "cell_type": "code",
   "execution_count": 151,
   "metadata": {},
   "outputs": [],
   "source": [
    "#Create a data frame for the data and save to CSV file\n",
    "weather_df = pd.DataFrame(weather_data)\n",
    "weather_df = weather_df.set_index(\"City ID\")\n",
    "weather_df.to_csv(\"weather_data.csv\")\n"
   ]
  }
 ],
 "metadata": {
  "kernelspec": {
   "display_name": "Python 3",
   "language": "python",
   "name": "python3"
  },
  "language_info": {
   "codemirror_mode": {
    "name": "ipython",
    "version": 3
   },
   "file_extension": ".py",
   "mimetype": "text/x-python",
   "name": "python",
   "nbconvert_exporter": "python",
   "pygments_lexer": "ipython3",
   "version": "3.6.10-final"
  }
 },
 "nbformat": 4,
 "nbformat_minor": 2
}