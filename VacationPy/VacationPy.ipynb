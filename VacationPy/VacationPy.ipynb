{
 "cells": [
  {
   "cell_type": "code",
   "execution_count": 1,
   "metadata": {},
   "outputs": [],
   "source": [
    "# Dependencies\n",
    "import numpy as np\n",
    "import pandas as pd\n",
    "import matplotlib.pyplot as plt\n",
    "import requests\n",
    "import os\n",
    "import json\n",
    "import gmaps\n",
    "from config import (gkey)\n",
    "\n",
    "# Configure gmaps\n",
    "gmaps.configure(api_key=gkey)"
   ]
  },
  {
   "cell_type": "code",
   "execution_count": 2,
   "metadata": {},
   "outputs": [
    {
     "name": "stdout",
     "output_type": "stream",
     "text": [
      "Processing 600 cities.\n"
     ]
    }
   ],
   "source": [
    "# Read in the weather data from csv file created in WeatherPy.ipynb\n",
    "filepath = os.path.join('/','Users','joser', 'Documents', 'git', 'Trilogy', 'In-Class', 'Homework', '06-Python-APIs', 'UCF_Data_Bootcamp_Homework_6', 'WeatherPy', 'weather_data.csv')\n",
    "weather_data = pd.read_csv(filepath)\n",
    "print(\"Processing %d cities.\" % len(weather_data))"
   ]
  },
  {
   "cell_type": "code",
   "execution_count": 3,
   "metadata": {},
   "outputs": [
    {
     "name": "stdout",
     "output_type": "stream",
     "text": [
      "Total Cities :  600\n",
      "Heatmap:\n"
     ]
    }
   ],
   "source": [
    "print(\"Total Cities : \" , len(weather_data))\n",
    "print(\"Heatmap:\")"
   ]
  },
  {
   "cell_type": "code",
   "execution_count": 4,
   "metadata": {},
   "outputs": [
    {
     "data": {
      "application/vnd.jupyter.widget-view+json": {
       "model_id": "a20d906e23514f71b1497dc4b5701d90",
       "version_major": 2,
       "version_minor": 0
      },
      "text/plain": [
       "Figure(layout=FigureLayout(height='420px'))"
      ]
     },
     "metadata": {},
     "output_type": "display_data"
    }
   ],
   "source": [
    "locations = weather_data[[\"Lat\", \"Lon\"]]\n",
    "rating    = weather_data[\"Humidity\"].astype(float)\n",
    "\n",
    "# Plot Heatmap\n",
    "fig = gmaps.figure()\n",
    "\n",
    "# Create heat layer\n",
    "heat_layer = gmaps.heatmap_layer(locations, weights=rating)\n",
    "\n",
    "# Add layer\n",
    "fig.add_layer(heat_layer)\n",
    "\n",
    "# Display figure\n",
    "fig"
   ]
  },
  {
   "cell_type": "code",
   "execution_count": 10,
   "metadata": {},
   "outputs": [
    {
     "data": {
      "text/plain": [
       "<Figure size 432x288 with 0 Axes>"
      ]
     },
     "metadata": {},
     "output_type": "display_data"
    }
   ],
   "source": [
    "plt.savefig(\"01_HumidityHeatmap.png\")"
   ]
  },
  {
   "cell_type": "code",
   "execution_count": 5,
   "metadata": {},
   "outputs": [
    {
     "data": {
      "text/html": [
       "<div>\n",
       "<style scoped>\n",
       "    .dataframe tbody tr th:only-of-type {\n",
       "        vertical-align: middle;\n",
       "    }\n",
       "\n",
       "    .dataframe tbody tr th {\n",
       "        vertical-align: top;\n",
       "    }\n",
       "\n",
       "    .dataframe thead th {\n",
       "        text-align: right;\n",
       "    }\n",
       "</style>\n",
       "<table border=\"1\" class=\"dataframe\">\n",
       "  <thead>\n",
       "    <tr style=\"text-align: right;\">\n",
       "      <th></th>\n",
       "      <th>City ID</th>\n",
       "      <th>Lat</th>\n",
       "      <th>Lon</th>\n",
       "      <th>Temp</th>\n",
       "      <th>Humidity</th>\n",
       "      <th>Cloudiness</th>\n",
       "      <th>Wind Speed</th>\n",
       "    </tr>\n",
       "  </thead>\n",
       "  <tbody>\n",
       "    <tr>\n",
       "      <th>63</th>\n",
       "      <td>4004834</td>\n",
       "      <td>25.9667</td>\n",
       "      <td>-100.0167</td>\n",
       "      <td>79.70</td>\n",
       "      <td>22</td>\n",
       "      <td>1</td>\n",
       "      <td>3.44</td>\n",
       "    </tr>\n",
       "    <tr>\n",
       "      <th>71</th>\n",
       "      <td>4720272</td>\n",
       "      <td>29.0697</td>\n",
       "      <td>-98.0819</td>\n",
       "      <td>73.53</td>\n",
       "      <td>19</td>\n",
       "      <td>1</td>\n",
       "      <td>9.22</td>\n",
       "    </tr>\n",
       "    <tr>\n",
       "      <th>528</th>\n",
       "      <td>2185786</td>\n",
       "      <td>-35.3167</td>\n",
       "      <td>173.7833</td>\n",
       "      <td>75.99</td>\n",
       "      <td>46</td>\n",
       "      <td>0</td>\n",
       "      <td>5.01</td>\n",
       "    </tr>\n",
       "  </tbody>\n",
       "</table>\n",
       "</div>"
      ],
      "text/plain": [
       "     City ID      Lat       Lon   Temp  Humidity  Cloudiness  Wind Speed\n",
       "63   4004834  25.9667 -100.0167  79.70        22           1        3.44\n",
       "71   4720272  29.0697  -98.0819  73.53        19           1        9.22\n",
       "528  2185786 -35.3167  173.7833  75.99        46           0        5.01"
      ]
     },
     "execution_count": 5,
     "metadata": {},
     "output_type": "execute_result"
    }
   ],
   "source": [
    "# Find cities with:\n",
    "#A max temperature lower than 80 degrees but higher than 70.\n",
    "weather_data[ ((weather_data[\"Temp\"] >= 70) & (weather_data[\"Temp\"] <= 80)) & \n",
    "              (weather_data[\"Wind Speed\"] <= 10) & \n",
    "              (weather_data[\"Cloudiness\"] <= 1 )\n",
    "            ]\n"
   ]
  },
  {
   "cell_type": "code",
   "execution_count": 6,
   "metadata": {},
   "outputs": [
    {
     "data": {
      "text/html": [
       "<div>\n",
       "<style scoped>\n",
       "    .dataframe tbody tr th:only-of-type {\n",
       "        vertical-align: middle;\n",
       "    }\n",
       "\n",
       "    .dataframe tbody tr th {\n",
       "        vertical-align: top;\n",
       "    }\n",
       "\n",
       "    .dataframe thead th {\n",
       "        text-align: right;\n",
       "    }\n",
       "</style>\n",
       "<table border=\"1\" class=\"dataframe\">\n",
       "  <thead>\n",
       "    <tr style=\"text-align: right;\">\n",
       "      <th></th>\n",
       "      <th>City ID</th>\n",
       "      <th>Lat</th>\n",
       "      <th>Lon</th>\n",
       "      <th>Temp</th>\n",
       "      <th>Humidity</th>\n",
       "      <th>Cloudiness</th>\n",
       "      <th>Wind Speed</th>\n",
       "      <th>Hotel Name</th>\n",
       "      <th>Address</th>\n",
       "      <th>Country</th>\n",
       "    </tr>\n",
       "  </thead>\n",
       "  <tbody>\n",
       "    <tr>\n",
       "      <th>0</th>\n",
       "      <td>4736420</td>\n",
       "      <td>30.3480</td>\n",
       "      <td>-97.9850</td>\n",
       "      <td>64.49</td>\n",
       "      <td>29</td>\n",
       "      <td>1</td>\n",
       "      <td>6.91</td>\n",
       "      <td></td>\n",
       "      <td></td>\n",
       "      <td></td>\n",
       "    </tr>\n",
       "    <tr>\n",
       "      <th>1</th>\n",
       "      <td>492821</td>\n",
       "      <td>53.0244</td>\n",
       "      <td>34.4392</td>\n",
       "      <td>18.00</td>\n",
       "      <td>97</td>\n",
       "      <td>100</td>\n",
       "      <td>8.88</td>\n",
       "      <td></td>\n",
       "      <td></td>\n",
       "      <td></td>\n",
       "    </tr>\n",
       "    <tr>\n",
       "      <th>2</th>\n",
       "      <td>6360495</td>\n",
       "      <td>41.0457</td>\n",
       "      <td>-5.2677</td>\n",
       "      <td>47.71</td>\n",
       "      <td>87</td>\n",
       "      <td>75</td>\n",
       "      <td>19.57</td>\n",
       "      <td></td>\n",
       "      <td></td>\n",
       "      <td></td>\n",
       "    </tr>\n",
       "    <tr>\n",
       "      <th>3</th>\n",
       "      <td>3064143</td>\n",
       "      <td>49.4308</td>\n",
       "      <td>17.2880</td>\n",
       "      <td>19.76</td>\n",
       "      <td>85</td>\n",
       "      <td>64</td>\n",
       "      <td>1.99</td>\n",
       "      <td></td>\n",
       "      <td></td>\n",
       "      <td></td>\n",
       "    </tr>\n",
       "    <tr>\n",
       "      <th>4</th>\n",
       "      <td>2775819</td>\n",
       "      <td>48.4834</td>\n",
       "      <td>13.8096</td>\n",
       "      <td>27.00</td>\n",
       "      <td>94</td>\n",
       "      <td>75</td>\n",
       "      <td>3.18</td>\n",
       "      <td></td>\n",
       "      <td></td>\n",
       "      <td></td>\n",
       "    </tr>\n",
       "    <tr>\n",
       "      <th>5</th>\n",
       "      <td>6360685</td>\n",
       "      <td>43.1079</td>\n",
       "      <td>-3.8906</td>\n",
       "      <td>58.66</td>\n",
       "      <td>63</td>\n",
       "      <td>20</td>\n",
       "      <td>24.16</td>\n",
       "      <td></td>\n",
       "      <td></td>\n",
       "      <td></td>\n",
       "    </tr>\n",
       "    <tr>\n",
       "      <th>6</th>\n",
       "      <td>616488</td>\n",
       "      <td>40.5176</td>\n",
       "      <td>44.9319</td>\n",
       "      <td>32.00</td>\n",
       "      <td>93</td>\n",
       "      <td>75</td>\n",
       "      <td>2.30</td>\n",
       "      <td></td>\n",
       "      <td></td>\n",
       "      <td></td>\n",
       "    </tr>\n",
       "    <tr>\n",
       "      <th>7</th>\n",
       "      <td>602426</td>\n",
       "      <td>63.8333</td>\n",
       "      <td>20.4833</td>\n",
       "      <td>1.40</td>\n",
       "      <td>92</td>\n",
       "      <td>90</td>\n",
       "      <td>3.44</td>\n",
       "      <td></td>\n",
       "      <td></td>\n",
       "      <td></td>\n",
       "    </tr>\n",
       "    <tr>\n",
       "      <th>8</th>\n",
       "      <td>935085</td>\n",
       "      <td>-26.0000</td>\n",
       "      <td>31.5000</td>\n",
       "      <td>78.01</td>\n",
       "      <td>93</td>\n",
       "      <td>100</td>\n",
       "      <td>3.44</td>\n",
       "      <td></td>\n",
       "      <td></td>\n",
       "      <td></td>\n",
       "    </tr>\n",
       "    <tr>\n",
       "      <th>9</th>\n",
       "      <td>3694569</td>\n",
       "      <td>-6.1519</td>\n",
       "      <td>-79.7142</td>\n",
       "      <td>82.54</td>\n",
       "      <td>48</td>\n",
       "      <td>25</td>\n",
       "      <td>8.46</td>\n",
       "      <td></td>\n",
       "      <td></td>\n",
       "      <td></td>\n",
       "    </tr>\n",
       "  </tbody>\n",
       "</table>\n",
       "</div>"
      ],
      "text/plain": [
       "   City ID      Lat      Lon   Temp  Humidity  Cloudiness  Wind Speed  \\\n",
       "0  4736420  30.3480 -97.9850  64.49        29           1        6.91   \n",
       "1   492821  53.0244  34.4392  18.00        97         100        8.88   \n",
       "2  6360495  41.0457  -5.2677  47.71        87          75       19.57   \n",
       "3  3064143  49.4308  17.2880  19.76        85          64        1.99   \n",
       "4  2775819  48.4834  13.8096  27.00        94          75        3.18   \n",
       "5  6360685  43.1079  -3.8906  58.66        63          20       24.16   \n",
       "6   616488  40.5176  44.9319  32.00        93          75        2.30   \n",
       "7   602426  63.8333  20.4833   1.40        92          90        3.44   \n",
       "8   935085 -26.0000  31.5000  78.01        93         100        3.44   \n",
       "9  3694569  -6.1519 -79.7142  82.54        48          25        8.46   \n",
       "\n",
       "  Hotel Name Address Country  \n",
       "0                             \n",
       "1                             \n",
       "2                             \n",
       "3                             \n",
       "4                             \n",
       "5                             \n",
       "6                             \n",
       "7                             \n",
       "8                             \n",
       "9                             "
      ]
     },
     "execution_count": 6,
     "metadata": {},
     "output_type": "execute_result"
    }
   ],
   "source": [
    "weather_data[\"Hotel Name\"] = \"\"\n",
    "weather_data[\"Address\"] = \"\"\n",
    "weather_data[\"Country\"] = \"\"\n",
    "weather_data.head(10)"
   ]
  },
  {
   "cell_type": "code",
   "execution_count": 7,
   "metadata": {},
   "outputs": [
    {
     "name": "stdout",
     "output_type": "stream",
     "text": [
      "Missing field/result for city id = 935085. Dropping it from list.\n",
      "Missing field/result for city id = 7407690. Dropping it from list.\n",
      "Missing field/result for city id = 2144117. Dropping it from list.\n",
      "Missing field/result for city id = 5641875. Dropping it from list.\n",
      "Missing field/result for city id = 678430. Dropping it from list.\n",
      "Missing field/result for city id = 5881199. Dropping it from list.\n",
      "Missing field/result for city id = 685672. Dropping it from list.\n",
      "Missing field/result for city id = 1143838. Dropping it from list.\n",
      "Missing field/result for city id = 63580. Dropping it from list.\n",
      "Missing field/result for city id = 5460650. Dropping it from list.\n",
      "Missing field/result for city id = 687933. Dropping it from list.\n",
      "Missing field/result for city id = 5059925. Dropping it from list.\n",
      "Missing field/result for city id = 682038. Dropping it from list.\n",
      "Missing field/result for city id = 2138519. Dropping it from list.\n",
      "Missing field/result for city id = 7046809. Dropping it from list.\n",
      "Missing field/result for city id = 2434508. Dropping it from list.\n",
      "Missing field/result for city id = 167408. Dropping it from list.\n",
      "Missing field/result for city id = 1520025. Dropping it from list.\n",
      "Missing field/result for city id = 878362. Dropping it from list.\n",
      "Missing field/result for city id = 7048362. Dropping it from list.\n",
      "Missing field/result for city id = 6086733. Dropping it from list.\n",
      "Missing field/result for city id = 593303. Dropping it from list.\n",
      "Missing field/result for city id = 485642. Dropping it from list.\n",
      "Missing field/result for city id = 3525067. Dropping it from list.\n",
      "Missing field/result for city id = 1514011. Dropping it from list.\n",
      "Missing field/result for city id = 5924757. Dropping it from list.\n",
      "Missing field/result for city id = 6065542. Dropping it from list.\n",
      "Missing field/result for city id = 5901447. Dropping it from list.\n",
      "Missing field/result for city id = 6609564. Dropping it from list.\n",
      "Missing field/result for city id = 2032871. Dropping it from list.\n",
      "Missing field/result for city id = 1143901. Dropping it from list.\n",
      "Missing field/result for city id = 4263635. Dropping it from list.\n",
      "Missing field/result for city id = 553416. Dropping it from list.\n",
      "Missing field/result for city id = 1146706. Dropping it from list.\n",
      "Missing field/result for city id = 3547180. Dropping it from list.\n",
      "Missing field/result for city id = 2251230. Dropping it from list.\n",
      "Missing field/result for city id = 3386628. Dropping it from list.\n",
      "Missing field/result for city id = 2516538. Dropping it from list.\n",
      "Missing field/result for city id = 3517993. Dropping it from list.\n",
      "Missing field/result for city id = 700446. Dropping it from list.\n",
      "Missing field/result for city id = 5866155. Dropping it from list.\n",
      "Missing field/result for city id = 536291. Dropping it from list.\n",
      "Missing field/result for city id = 6101161. Dropping it from list.\n"
     ]
    }
   ],
   "source": [
    "for index, row in weather_data.iterrows():\n",
    "    # geocoordinates\n",
    "    target_coordinates = f'{row[\"Lat\"]},{row[\"Lon\"]}'\n",
    "    target_radius = 8000\n",
    "    target_type = \"lodging\"\n",
    "    # set up a parameters dictionary\n",
    "    params = {\n",
    "        \"location\": target_coordinates,\n",
    "        \"radius\": target_radius,\n",
    "        \"type\": target_type,\n",
    "        \"key\": gkey\n",
    "    }\n",
    "    # base url\n",
    "    base_url = \"https://maps.googleapis.com/maps/api/place/nearbysearch/json\"\n",
    "    # run a request using our params dictionary\n",
    "    response = requests.get(base_url, params=params).json()\n",
    "    #print(json.dumps(response, indent=2))\n",
    "    try:\n",
    "        weather_data.loc[index, \"Lat\"]         = response[\"results\"][0][\"geometry\"][\"location\"][\"lat\"] # Update with actual hotel coordinates\n",
    "        weather_data.loc[index, \"Lon\"]         = response[\"results\"][0][\"geometry\"][\"location\"][\"lng\"] # Update with actual hotel coordinates\n",
    "        weather_data.loc[index, \"Hotel Name\"]  = response[\"results\"][0][\"name\"]\n",
    "        weather_data.loc[index, \"Address\"]     = response[\"results\"][0][\"vicinity\"]\n",
    "        country_name                           = response[\"results\"][0][\"plus_code\"][\"compound_code\"].split(\",\")[-1]\n",
    "        #print(response[\"results\"][0])\n",
    "        weather_data.loc[index, \"Country\"]     = country_name\n",
    "    except (KeyError, IndexError):\n",
    "        print(\"Missing field/result for city id = %d. Dropping it from list.\"% row[\"City ID\"])\n",
    "        weather_data.drop(index,inplace=True)"
   ]
  },
  {
   "cell_type": "code",
   "execution_count": 8,
   "metadata": {},
   "outputs": [
    {
     "data": {
      "application/vnd.jupyter.widget-view+json": {
       "model_id": "a4297a3a5e8e4de99e534f2ef4535a16",
       "version_major": 2,
       "version_minor": 0
      },
      "text/plain": [
       "Figure(layout=FigureLayout(height='420px'))"
      ]
     },
     "metadata": {},
     "output_type": "display_data"
    }
   ],
   "source": [
    "# Create a map using city coordinates to set markers\n",
    "marker_locations = weather_data[['Lat', 'Lon']]\n",
    "\n",
    "# Create a marker_layer using the Hotel name, city and country to fill the info box\n",
    "fig = gmaps.figure()\n",
    "\n",
    "#Extract dataframe fields into array of tuples\n",
    "records = weather_data[[\"Hotel Name\", \"Address\", \"Country\"]].to_records(index=False)\n",
    "\n",
    "markers = gmaps.marker_layer(marker_locations, info_box_content=[f\"<dl><dt>Name:</dt><dd>{HotelName}</dd><dt>Address:</dt><dd>{Address}</dd><dt>Country:</dt><dd>{Country}</dd><dl>\" for HotelName,Address,Country, *_ in records])\n",
    "                         \n",
    "fig.add_layer(markers)\n",
    "fig"
   ]
  },
  {
   "cell_type": "code",
   "execution_count": 9,
   "metadata": {},
   "outputs": [
    {
     "data": {
      "text/plain": [
       "<Figure size 432x288 with 0 Axes>"
      ]
     },
     "metadata": {},
     "output_type": "display_data"
    }
   ],
   "source": [
    "plt.savefig(\"02_Suggested_Vacation_Locations.png\")"
   ]
  }
 ],
 "metadata": {
  "kernelspec": {
   "display_name": "Python 3",
   "language": "python",
   "name": "python3"
  },
  "language_info": {
   "codemirror_mode": {
    "name": "ipython",
    "version": 3
   },
   "file_extension": ".py",
   "mimetype": "text/x-python",
   "name": "python",
   "nbconvert_exporter": "python",
   "pygments_lexer": "ipython3",
   "version": "3.6.10"
  }
 },
 "nbformat": 4,
 "nbformat_minor": 2
}
